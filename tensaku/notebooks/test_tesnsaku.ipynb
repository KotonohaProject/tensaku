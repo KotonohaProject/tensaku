{
 "cells": [
  {
   "cell_type": "code",
   "execution_count": 1,
   "id": "232c8884-4c10-4f2d-b50d-902ee5df174c",
   "metadata": {},
   "outputs": [
    {
     "name": "stdout",
     "output_type": "stream",
     "text": [
      "/Users/shinnosukeuesaka/tensaku\n"
     ]
    }
   ],
   "source": [
    "%cd ../.."
   ]
  },
  {
   "cell_type": "code",
   "execution_count": 2,
   "id": "a63b6021-1bbb-4bde-b5e3-686e8bb707d8",
   "metadata": {},
   "outputs": [],
   "source": [
    "from tensaku.tensaku_generator import Tensaku"
   ]
  },
  {
   "cell_type": "code",
   "execution_count": 5,
   "id": "cadf55b7-4c70-40cf-9fff-8a505e941493",
   "metadata": {},
   "outputs": [],
   "source": [
    "tensaku = Tensaku()"
   ]
  },
  {
   "cell_type": "code",
   "execution_count": 6,
   "id": "022af61b-318e-4b2d-968d-7ca5b13d9585",
   "metadata": {},
   "outputs": [
    {
     "name": "stdout",
     "output_type": "stream",
     "text": [
      "------------------------------------\n",
      "[{'role': 'system', 'content': 'If the sentence, taken from the paragraph, sounds unnatural corrected it. If the sentence sounds natural as it is, keep the original sentence. The sentence can be formal or casual. Abbriviations, slang, and contractions does not have to be corrected, and should be kept both when used or not used.'}, {'role': 'user', 'content': \"I'm going help you.\"}, {'role': 'assistant', 'content': \"I'm going to help you.\"}, {'role': 'user', 'content': 'Recently the prices of Phosphorus is rising because import restrictions by China.'}, {'role': 'assistant', 'content': 'Recently the price of Phosphorus has been rising because of import restrictions by China.'}, {'role': 'user', 'content': 'I looked a movie.'}]\n",
      "------------------------------------\n",
      "I watched a movie.\n",
      "------------------------------------\n",
      "[{'role': 'system', 'content': \"You are a English teacher. Classify student's mistakes. Try to split the mistake into small chunks as much as possible. Detect all the mistakes.\"}, {'role': 'user', 'content': 'Please classify the mistakes in to the following categories.\\nGrammar, Word Choice, Spelling, Unnatural Expression, Sentence\\nStrictly follow the format below.        \\n\\nOriginal: I feels I am acquiring information in English more fast.\\nEdited: I feel I am acquiring knowledge in English faster.\\nfeels -> feel (Grammar)\\ninformation -> knowledge (Word Choice)\\nmore fast -> faster (Grammar)\\n\\nOriginal: I looked a moovie with my friends.\\nEdited: I watched a movie with my friends.\\nlooked -> watched (Word Choice)\\nmoovie -> movie (Spelling)\\n\\nOriginal: I went for a walk with my dog, who is a 2-year-old toy poodle because I worked at home yesterday.\\nEdited: Because I worked from home, I walked my dog, who is a 2-year-old toy poodle.\\nwent for a walk -> walked (Unnatural Expression)\\nat home -> from home (Word Choice)\\nbecause I worked at home yesterday -> because I worked from home (Sentence Structure)\\n\\nOriginal: Fun is English.\\nEdited: English is fun.\\nFun is English -> English is fun (Sentence Structure)\\n\\nOriginal: Yesterday, I was able to know what is not good in my habit daily.\\nEdited: Yesterday, I was able to recognize a mistake in my daily habits.\\nknow -> recognize (Word Choice)\\nwhat is not good -> a mistake (Unnatural Expression)\\nhabit daily -> daily habits (Unnatural Expression),'}, {'role': 'user', 'content': 'Original: This movie is knowing to everyone in Japan.\\nEdited: This movie is known to everyone in Japan.'}, {'role': 'assistant', 'content': 'is knowing -> is known (Grammar)'}, {'role': 'user', 'content': 'Original: I looked a movie.\\nEdited: I watched a movie.'}]\n",
      "------------------------------------\n",
      "looked -> watched (Word Choice)\n",
      "------------------------------------\n",
      "[{'role': 'system', 'content': 'あなたは英語の先生です。生徒が書いた英文と修正後の英文を比較して、矢印で示された間違いを詳細に文法用語を用いて自然な日本語で解説してください。文章に複数の間違いがあっても、矢印で示された間違え１つだけを解説してください。必要に応じて比較したり例文も用いてください。'}, {'role': 'user', 'content': \"以下の例にできる限り従って解説してください。\\nOriginal: We cannot avoid feeling the Winter freezing.\\nCorrected: We cannot avoid feeling cold in the winter.\\nfeeling the Winter freezing -> feeling cold in the winter\\n\\nこのままでも伝わりますが、feel Winter freezing は一般的な表現ではありません。「寒さを感じる」はfeel coldという表現がよく使われます。freezingを形容詞として使って、We can not avoid freezing winter. と表現することもできます。\\n他にも寒さを表現する英語は以下のようなものがあります。\\n- I am freezing.\\n- It's so cold outside.\\n- I feel cold to the bone.\\n\\nOriginal: I was able to recognize what is not good in my habits daily.\\nEdited:  I was able to recognize a mistake in my daily habits.\\nwhat is not good -> a mistake\\n\\nwhat is not good は冗長で少し不自然です。a mistake とすると、より自然で簡潔な表現となります。\"}, {'role': 'assistant', 'content': '分かりました。'}, {'role': 'user', 'content': 'Original: I got a lot of results.\\nEdited: I achieved a lot of results.\\ngot -> achieved'}, {'role': 'assistant', 'content': 'getとachieveはどちらも何かを手に入れるという意味では似ていますが、それぞれのニュアンスや使い方に違いがあります。\\n\\ngetは、もっと一般的で広い意味を持ち、物や情報、状況など様々なものを手に入れることができます。また、getは、特定の努力や過程が必要でない場合も使われます。例:\\n- I got a new phone.（新しい携帯電話を手に入れた）\\n- She got the information she needed.（彼女は必要な情報を手に入れた）\\n\\n一方、achieveは、目標や願望を達成することに特化した言葉で、通常努力や時間をかけて達成されるものに対して使われます。たいてい、達成されるものは抽象的で、具体的な物体ではないことが多いです。例:\\n- He achieved his goal of becoming a doctor.（彼は医者になるという目標を達成した）\\n- She achieved success in her career.（彼女はキャリアで成功を収めた）\\n\\n今回のように、成果や目標を達成する文脈では、achieved を使うことでより自然な表現になります。'}, {'role': 'user', 'content': 'Original: I looked a movie.\\nEdited: I watched a movie.\\nlooked -> watched'}]\n",
      "------------------------------------\n",
      "「looked」と「watched」はどちらも視覚に関連する動詞ですが、使い方には大きな違いがあります。\n",
      "\n",
      "「looked」は「見る」という一般的な行為を指しますが、特定の対象をじっくりと観察するという意味では使われません。例えば、「I looked at the sky.（私は空を見た）」のように使います。\n",
      "\n",
      "一方、「watched」は何かを注意深く観察する、または何かが起こるのを見るという意味で使われます。映画やテレビ番組を見る、試合を見る、人々が何かをするのを見るなどの状況で使います。例えば、「I watched a movie.（私は映画を見た）」や「I watched the game.（私は試合を見た）」のように使います。\n",
      "\n",
      "したがって、映画を見るという状況では、「watched」を使うのが適切です。\n",
      "------------------------------------\n",
      "[{'role': 'system', 'content': '生徒が書いた英文と先生が書いた英文を比較して、先生が書いた英文の単語や短いフレーズから特に英語学習において重要なものだけを選んで、例文を用いて詳しく日本語で解説してください。生徒の英文に既に書かれている単語やフレーズは解説しないでください。周辺情報に関しても詳しく説明したり関連する表現やフレーズを教えてください。'}, {'role': 'user', 'content': 'Original: It\\'s the 8th day of 12 days of continuous work. I don\\'t feel tired at all; I guess I cheer up seeing my colleagues working harder. I had a party with the old PTA members last night. We had a really good time, so I was able to release my fatigue.\\nEdited: Today marks the eighth day of twelve days of consecutive work. I\\'m surprisingly not feeling tired, I think it\\'s because I\\'m encouraged by my colleagues working hard. Last night, I had a great time catching up with some of the old PTA members. It was a great way to let off some steam and relax.\\n\\n以下の例にできるだけ従ってください。\\n\\n# Today Marks\\n- Today marks the anniversary of our first date.\\n- Today marks one year since my grandmother died.\\n日本語でアニバーサリーといえば良いことの”記念日”として使われますが、英語では歴史的惨事など”好ましくないこと” にも anniversary を使います。\\n\\n# Consecutive\\n- The player hit home runs in three consecutive games. \\n- Our company has posted record profits for three consecutive years. \\n\"Consecutive\" と \"continuous\" はどちらも連続性を表す英単語ですが、それぞれ異なるニュアンスを持っています。\\n\"Consecutive\" は、一連の事象が順番に、間断なく続いていることを表します。これは、特定の順序やシーケンスに従って事象が連続していることを意味します。\"Continuous\" は、一定の期間にわたって何かが継続的に行われていることを表します。これは、一貫性や不変性を強調するために使用されます。例えば、\\n- The rain has been continuous for the past three days.\\n- The store offers continuous sales throughout the year.\\n両方の単語は連続性を表すものの、\"consecutive\" は順序やシーケンスに重点を置いているのに対し、\"continuous\" は一貫性や不変性に焦点を当てています。したがって、これらの単語は状況に応じて使い分けることが重要です。\\n\\n# catching up with\\n  - It was great catching up with you after all these years.\\n  - I enjoyed catching up with my old friends at the reunion.\\n家族や友達との再会を表すフレーズは他にもあります。\\nreconnect with:\\n  - I recently reconnected with my childhood friend on social media.\\n  - It\\'s important to reconnect with family members you haven\\'t seen in a while.\\n\\n# Let off some steam\\n- After a long day at work, I like to let off some steam by going for a run.\\n- The employees went out for drinks after work to let off some steam.\\nlet off steam または let off some steam といいます。\\n本来は文字通り余分な蒸気を外に逃がすことですが、転じて「怒りや激情などを発散する」という意味となり、通常、言動や運動などで鬱憤を晴らすことをいいます。let の他、blow やwork といった動詞も用いられます。'}, {'role': 'user', 'content': \"Original: I watched a movie.\\nEdited: I watched a movie the other day; it was really enjoyable. I was captivated by the storyline and the characters were so well-developed. The visuals were stunning and the soundtrack was amazing. I'm so glad I took the time to sit down and watch it.\"}]\n",
      "------------------------------------\n",
      "以下の例にできるだけ従ってください。\n",
      "\n",
      "# The other day\n",
      "- I met an old friend in the city the other day.\n",
      "- The other day, I found a really nice cafe near my house.\n",
      "「The other day」は「先日」や「この間」という意味で、過去のある日を指す表現です。具体的な日付を指さないため、日常会話でよく使われます。\n",
      "\n",
      "# Captivated by\n",
      "- I was captivated by her beauty.\n",
      "- The audience was captivated by his performance.\n",
      "「Captivated by」は「～に魅了される」という意味で、何かに強く引きつけられたり、興味を持ったりする状態を表します。人や物事に対する強い感銘や興味を示すのに使われます。\n",
      "\n",
      "# Well-developed\n",
      "- The plot of the book was well-developed.\n",
      "- The characters in the movie were well-developed.\n",
      "「Well-developed」は「よく発展した」や「よく育った」という意味で、物事が十分に成長または進行した状態を表します。特に物語やキャラクターが詳細に描かれ、理解しやすいことを指すのに使われます。\n",
      "\n",
      "# Stunning\n",
      "- The view from the top of the mountain was stunning.\n",
      "- She looked stunning in her wedding dress.\n",
      "「Stunning」は「驚くほど美しい」や「息をのむような」という意味で、非常に美しいまたは印象的なものを表す形容詞です。人や風景、体験などに対して使われます。\n",
      "\n",
      "# Soundtrack\n",
      "- The soundtrack of the movie was really good.\n",
      "- I bought the soundtrack of my favorite TV show.\n",
      "「Soundtrack」は「サウンドトラック」や「映画音楽」という意味で、映画やテレビ番組、ビデオゲームなどの背景音楽を指します。特定のシーンや感情を強調するために使われ、しばしばその作品の雰囲気やテーマを表現します。\n",
      "------------------------------------\n",
      "[{'role': 'system', 'content': 'You are an English teacher. Write a friendly comment to the following student essay. (It might be an Essay) Mention things that are done well in terms of English. Then translate it in Japanese.'}, {'role': 'user', 'content': \"I got an invitation for English coaching online seminar! I could get TOEIC score, over 800 thanks to his YouTube, so I'm very exciting😆✨ Thank you so much, おさるさん！\"}, {'role': 'assistant', 'content': 'Hi there! It\\'s wonderful to see your enthusiasm for improving your English skills. You\\'ve done an excellent job of expressing your excitement and gratitude in your essay entry. Your use of the phrase \"I\\'m very exciting\" effectively conveys your feelings, although it\\'s more appropriate to say \"I\\'m very excited\" in this context. Also, it\\'s great to see that you\\'re incorporating informal language and emojis to create a friendly tone. Keep up the fantastic work, and congratulations on achieving a TOEIC score of over 800! 😊👏\\nこんにちわ！あなたの英語力向上への熱意を拝見して、素晴らしいです。あなたは日記で、興奮と感謝の気持ちを見事に表現していますね。この文脈では「I\\'m very excited」と言った方が適切ですが、「I\\'m very exciting」というフレーズを使うことで、あなたの気持ちを効果的に伝えています。また、カジュアルな言葉や絵文字を使って親しみやすさを演出しているのも素晴らしいですね。引き続き素晴らしい成果をおさめてください！そして、TOEIC800点以上達成おめでとうございます！😊👏。'}, {'role': 'user', 'content': 'I looked a movie.'}]\n",
      "------------------------------------\n",
      "Hello! Your sentence is almost perfect, but the correct phrase to use is \"I watched a movie.\" Keep practicing! Your English is getting better every day.\n",
      "\n",
      "こんにちは！あなたの文章はほぼ完璧ですが、正しい表現は「I watched a movie」です。練習を続けてください！あなたの英語は日々向上しています。\n"
     ]
    },
    {
     "data": {
      "text/plain": [
       "AllTensakuDocument(original_paragraph='I looked a movie.', edited_paragraph='I watched a movie.', native_paragraph=\"I watched a movie the other day; it was really enjoyable. I was captivated by the storyline and the characters were so well-developed. The visuals were stunning and the soundtrack was amazing. I'm so glad I took the time to sit down and watch it.\", native_explanation=NativeExplanationDocument(explanation='以下の例にできるだけ従ってください。\\n\\n# The other day\\n- I met an old friend in the city the other day.\\n- The other day, I found a really nice cafe near my house.\\n「The other day」は「先日」や「この間」という意味で、過去のある日を指す表現です。具体的な日付を指さないため、日常会話でよく使われます。\\n\\n# Captivated by\\n- I was captivated by her beauty.\\n- The audience was captivated by his performance.\\n「Captivated by」は「～に魅了される」という意味で、何かに強く引きつけられたり、興味を持ったりする状態を表します。人や物事に対する強い感銘や興味を示すのに使われます。\\n\\n# Well-developed\\n- The plot of the book was well-developed.\\n- The characters in the movie were well-developed.\\n「Well-developed」は「よく発展した」や「よく育った」という意味で、物事が十分に成長または進行した状態を表します。特に物語やキャラクターが詳細に描かれ、理解しやすいことを指すのに使われます。\\n\\n# Stunning\\n- The view from the top of the mountain was stunning.\\n- She looked stunning in her wedding dress.\\n「Stunning」は「驚くほど美しい」や「息をのむような」という意味で、非常に美しいまたは印象的なものを表す形容詞です。人や風景、体験などに対して使われます。\\n\\n# Soundtrack\\n- The soundtrack of the movie was really good.\\n- I bought the soundtrack of my favorite TV show.\\n「Soundtrack」は「サウンドトラック」や「映画音楽」という意味で、映画やテレビ番組、ビデオゲームなどの背景音楽を指します。特定のシーンや感情を強調するために使われ、しばしばその作品の雰囲気やテーマを表現します。', exists=True), comment='Hello! Your sentence is almost perfect, but the correct phrase to use is \"I watched a movie.\" Keep practicing! Your English is getting better every day.\\n\\nこんにちは！あなたの文章はほぼ完璧ですが、正しい表現は「I watched a movie」です。練習を続けてください！あなたの英語は日々向上しています。', sentence_wise_explanations=[SentenceExplanationDocument(original_sentence='I looked a movie.', edited_sentence='I watched a movie.', mistake_explanations=[MistakeExplanationDocument(mistake_type='Grammar', explanation='「looked」と「watched」はどちらも視覚に関連する動詞ですが、使い方には大きな違いがあります。\\n\\n「looked」は「見る」という一般的な行為を指しますが、特定の対象をじっくりと観察するという意味では使われません。例えば、「I looked at the sky.（私は空を見た）」のように使います。\\n\\n一方、「watched」は何かを注意深く観察する、または何かが起こるのを見るという意味で使われます。映画やテレビ番組を見る、試合を見る、人々が何かをするのを見るなどの状況で使います。例えば、「I watched a movie.（私は映画を見た）」や「I watched the game.（私は試合を見た）」のように使います。\\n\\nしたがって、映画を見るという状況では、「watched」を使うのが適切です。', japanese=True)], japanese=True, complement_comment=None)], quizzes=[], japanese=True, VERSION='0.0.1')"
      ]
     },
     "execution_count": 6,
     "metadata": {},
     "output_type": "execute_result"
    }
   ],
   "source": [
    "tensaku_document = tensaku.generate(essay_text=\"I looked a movie.\", generate_quiz=False)"
   ]
  },
  {
   "cell_type": "code",
   "execution_count": null,
   "id": "dcc0ee39-5fe6-4f98-bc1f-9091d6f59014",
   "metadata": {},
   "outputs": [],
   "source": []
  }
 ],
 "metadata": {
  "kernelspec": {
   "display_name": "Python 3 (ipykernel)",
   "language": "python",
   "name": "python3"
  },
  "language_info": {
   "codemirror_mode": {
    "name": "ipython",
    "version": 3
   },
   "file_extension": ".py",
   "mimetype": "text/x-python",
   "name": "python",
   "nbconvert_exporter": "python",
   "pygments_lexer": "ipython3",
   "version": "3.10.11"
  }
 },
 "nbformat": 4,
 "nbformat_minor": 5
}
